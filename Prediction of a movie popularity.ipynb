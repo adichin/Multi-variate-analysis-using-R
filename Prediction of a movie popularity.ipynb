{
 "cells": [
  {
   "cell_type": "code",
   "execution_count": 1,
   "metadata": {},
   "outputs": [],
   "source": [
    "import pandas as pd\n",
    "import matplotlib.pyplot as plt\n",
    "from sklearn.model_selection import train_test_split"
   ]
  },
  {
   "cell_type": "code",
   "execution_count": 2,
   "metadata": {},
   "outputs": [],
   "source": [
    "movies_data = pd.read_csv('MyData.csv')\n",
    "movies_data.dropna(inplace=True)"
   ]
  },
  {
   "cell_type": "code",
   "execution_count": 3,
   "metadata": {},
   "outputs": [
    {
     "data": {
      "text/html": [
       "<div>\n",
       "<style scoped>\n",
       "    .dataframe tbody tr th:only-of-type {\n",
       "        vertical-align: middle;\n",
       "    }\n",
       "\n",
       "    .dataframe tbody tr th {\n",
       "        vertical-align: top;\n",
       "    }\n",
       "\n",
       "    .dataframe thead th {\n",
       "        text-align: right;\n",
       "    }\n",
       "</style>\n",
       "<table border=\"1\" class=\"dataframe\">\n",
       "  <thead>\n",
       "    <tr style=\"text-align: right;\">\n",
       "      <th></th>\n",
       "      <th>Unnamed: 0</th>\n",
       "      <th>title</th>\n",
       "      <th>title_type</th>\n",
       "      <th>genre</th>\n",
       "      <th>runtime</th>\n",
       "      <th>imdb_rating</th>\n",
       "      <th>imdb_num_votes</th>\n",
       "      <th>critics_rating</th>\n",
       "      <th>critics_score</th>\n",
       "      <th>audience_rating</th>\n",
       "      <th>audience_score</th>\n",
       "      <th>best_pic_win</th>\n",
       "      <th>best_actor_win</th>\n",
       "      <th>best_actress_win</th>\n",
       "      <th>best_dir_win</th>\n",
       "    </tr>\n",
       "  </thead>\n",
       "  <tbody>\n",
       "    <tr>\n",
       "      <th>0</th>\n",
       "      <td>1</td>\n",
       "      <td>Filly Brown</td>\n",
       "      <td>Feature Film</td>\n",
       "      <td>Drama</td>\n",
       "      <td>80.0</td>\n",
       "      <td>5.5</td>\n",
       "      <td>899</td>\n",
       "      <td>Rotten</td>\n",
       "      <td>45</td>\n",
       "      <td>Upright</td>\n",
       "      <td>73</td>\n",
       "      <td>no</td>\n",
       "      <td>no</td>\n",
       "      <td>no</td>\n",
       "      <td>no</td>\n",
       "    </tr>\n",
       "    <tr>\n",
       "      <th>1</th>\n",
       "      <td>2</td>\n",
       "      <td>The Dish</td>\n",
       "      <td>Feature Film</td>\n",
       "      <td>Drama</td>\n",
       "      <td>101.0</td>\n",
       "      <td>7.3</td>\n",
       "      <td>12285</td>\n",
       "      <td>Certified Fresh</td>\n",
       "      <td>96</td>\n",
       "      <td>Upright</td>\n",
       "      <td>81</td>\n",
       "      <td>no</td>\n",
       "      <td>no</td>\n",
       "      <td>no</td>\n",
       "      <td>no</td>\n",
       "    </tr>\n",
       "    <tr>\n",
       "      <th>2</th>\n",
       "      <td>3</td>\n",
       "      <td>Waiting for Guffman</td>\n",
       "      <td>Feature Film</td>\n",
       "      <td>Comedy</td>\n",
       "      <td>84.0</td>\n",
       "      <td>7.6</td>\n",
       "      <td>22381</td>\n",
       "      <td>Certified Fresh</td>\n",
       "      <td>91</td>\n",
       "      <td>Upright</td>\n",
       "      <td>91</td>\n",
       "      <td>no</td>\n",
       "      <td>no</td>\n",
       "      <td>no</td>\n",
       "      <td>no</td>\n",
       "    </tr>\n",
       "    <tr>\n",
       "      <th>3</th>\n",
       "      <td>4</td>\n",
       "      <td>The Age of Innocence</td>\n",
       "      <td>Feature Film</td>\n",
       "      <td>Drama</td>\n",
       "      <td>139.0</td>\n",
       "      <td>7.2</td>\n",
       "      <td>35096</td>\n",
       "      <td>Certified Fresh</td>\n",
       "      <td>80</td>\n",
       "      <td>Upright</td>\n",
       "      <td>76</td>\n",
       "      <td>no</td>\n",
       "      <td>yes</td>\n",
       "      <td>no</td>\n",
       "      <td>yes</td>\n",
       "    </tr>\n",
       "    <tr>\n",
       "      <th>4</th>\n",
       "      <td>5</td>\n",
       "      <td>Malevolence</td>\n",
       "      <td>Feature Film</td>\n",
       "      <td>Horror</td>\n",
       "      <td>90.0</td>\n",
       "      <td>5.1</td>\n",
       "      <td>2386</td>\n",
       "      <td>Rotten</td>\n",
       "      <td>33</td>\n",
       "      <td>Spilled</td>\n",
       "      <td>27</td>\n",
       "      <td>no</td>\n",
       "      <td>no</td>\n",
       "      <td>no</td>\n",
       "      <td>no</td>\n",
       "    </tr>\n",
       "  </tbody>\n",
       "</table>\n",
       "</div>"
      ],
      "text/plain": [
       "   Unnamed: 0                 title    title_type   genre  runtime  \\\n",
       "0           1           Filly Brown  Feature Film   Drama     80.0   \n",
       "1           2              The Dish  Feature Film   Drama    101.0   \n",
       "2           3   Waiting for Guffman  Feature Film  Comedy     84.0   \n",
       "3           4  The Age of Innocence  Feature Film   Drama    139.0   \n",
       "4           5           Malevolence  Feature Film  Horror     90.0   \n",
       "\n",
       "   imdb_rating  imdb_num_votes   critics_rating  critics_score  \\\n",
       "0          5.5             899           Rotten             45   \n",
       "1          7.3           12285  Certified Fresh             96   \n",
       "2          7.6           22381  Certified Fresh             91   \n",
       "3          7.2           35096  Certified Fresh             80   \n",
       "4          5.1            2386           Rotten             33   \n",
       "\n",
       "  audience_rating  audience_score best_pic_win best_actor_win  \\\n",
       "0         Upright              73           no             no   \n",
       "1         Upright              81           no             no   \n",
       "2         Upright              91           no             no   \n",
       "3         Upright              76           no            yes   \n",
       "4         Spilled              27           no             no   \n",
       "\n",
       "  best_actress_win best_dir_win  \n",
       "0               no           no  \n",
       "1               no           no  \n",
       "2               no           no  \n",
       "3               no          yes  \n",
       "4               no           no  "
      ]
     },
     "execution_count": 3,
     "metadata": {},
     "output_type": "execute_result"
    }
   ],
   "source": [
    "movies_data.head()"
   ]
  },
  {
   "cell_type": "code",
   "execution_count": 4,
   "metadata": {},
   "outputs": [
    {
     "data": {
      "text/html": [
       "<div>\n",
       "<style scoped>\n",
       "    .dataframe tbody tr th:only-of-type {\n",
       "        vertical-align: middle;\n",
       "    }\n",
       "\n",
       "    .dataframe tbody tr th {\n",
       "        vertical-align: top;\n",
       "    }\n",
       "\n",
       "    .dataframe thead th {\n",
       "        text-align: right;\n",
       "    }\n",
       "</style>\n",
       "<table border=\"1\" class=\"dataframe\">\n",
       "  <thead>\n",
       "    <tr style=\"text-align: right;\">\n",
       "      <th></th>\n",
       "      <th>Unnamed: 0</th>\n",
       "      <th>runtime</th>\n",
       "      <th>imdb_rating</th>\n",
       "      <th>imdb_num_votes</th>\n",
       "      <th>critics_score</th>\n",
       "      <th>audience_score</th>\n",
       "    </tr>\n",
       "  </thead>\n",
       "  <tbody>\n",
       "    <tr>\n",
       "      <th>count</th>\n",
       "      <td>650.000000</td>\n",
       "      <td>650.000000</td>\n",
       "      <td>650.000000</td>\n",
       "      <td>650.000000</td>\n",
       "      <td>650.000000</td>\n",
       "      <td>650.000000</td>\n",
       "    </tr>\n",
       "    <tr>\n",
       "      <th>mean</th>\n",
       "      <td>325.987692</td>\n",
       "      <td>105.821538</td>\n",
       "      <td>6.491538</td>\n",
       "      <td>57620.358462</td>\n",
       "      <td>57.653846</td>\n",
       "      <td>62.347692</td>\n",
       "    </tr>\n",
       "    <tr>\n",
       "      <th>std</th>\n",
       "      <td>188.216370</td>\n",
       "      <td>19.445047</td>\n",
       "      <td>1.084861</td>\n",
       "      <td>112188.553808</td>\n",
       "      <td>28.411328</td>\n",
       "      <td>20.234657</td>\n",
       "    </tr>\n",
       "    <tr>\n",
       "      <th>min</th>\n",
       "      <td>1.000000</td>\n",
       "      <td>39.000000</td>\n",
       "      <td>1.900000</td>\n",
       "      <td>180.000000</td>\n",
       "      <td>1.000000</td>\n",
       "      <td>11.000000</td>\n",
       "    </tr>\n",
       "    <tr>\n",
       "      <th>25%</th>\n",
       "      <td>163.250000</td>\n",
       "      <td>92.000000</td>\n",
       "      <td>5.900000</td>\n",
       "      <td>4584.250000</td>\n",
       "      <td>33.000000</td>\n",
       "      <td>46.000000</td>\n",
       "    </tr>\n",
       "    <tr>\n",
       "      <th>50%</th>\n",
       "      <td>325.500000</td>\n",
       "      <td>103.000000</td>\n",
       "      <td>6.600000</td>\n",
       "      <td>15203.500000</td>\n",
       "      <td>61.000000</td>\n",
       "      <td>65.000000</td>\n",
       "    </tr>\n",
       "    <tr>\n",
       "      <th>75%</th>\n",
       "      <td>488.750000</td>\n",
       "      <td>115.750000</td>\n",
       "      <td>7.300000</td>\n",
       "      <td>58484.250000</td>\n",
       "      <td>83.000000</td>\n",
       "      <td>80.000000</td>\n",
       "    </tr>\n",
       "    <tr>\n",
       "      <th>max</th>\n",
       "      <td>651.000000</td>\n",
       "      <td>267.000000</td>\n",
       "      <td>9.000000</td>\n",
       "      <td>893008.000000</td>\n",
       "      <td>100.000000</td>\n",
       "      <td>97.000000</td>\n",
       "    </tr>\n",
       "  </tbody>\n",
       "</table>\n",
       "</div>"
      ],
      "text/plain": [
       "       Unnamed: 0     runtime  imdb_rating  imdb_num_votes  critics_score  \\\n",
       "count  650.000000  650.000000   650.000000      650.000000     650.000000   \n",
       "mean   325.987692  105.821538     6.491538    57620.358462      57.653846   \n",
       "std    188.216370   19.445047     1.084861   112188.553808      28.411328   \n",
       "min      1.000000   39.000000     1.900000      180.000000       1.000000   \n",
       "25%    163.250000   92.000000     5.900000     4584.250000      33.000000   \n",
       "50%    325.500000  103.000000     6.600000    15203.500000      61.000000   \n",
       "75%    488.750000  115.750000     7.300000    58484.250000      83.000000   \n",
       "max    651.000000  267.000000     9.000000   893008.000000     100.000000   \n",
       "\n",
       "       audience_score  \n",
       "count      650.000000  \n",
       "mean        62.347692  \n",
       "std         20.234657  \n",
       "min         11.000000  \n",
       "25%         46.000000  \n",
       "50%         65.000000  \n",
       "75%         80.000000  \n",
       "max         97.000000  "
      ]
     },
     "execution_count": 4,
     "metadata": {},
     "output_type": "execute_result"
    }
   ],
   "source": [
    "movies_data.describe()"
   ]
  },
  {
   "cell_type": "code",
   "execution_count": 5,
   "metadata": {},
   "outputs": [
    {
     "data": {
      "text/plain": [
       "Index(['Unnamed: 0', 'title', 'title_type', 'genre', 'runtime', 'imdb_rating',\n",
       "       'imdb_num_votes', 'critics_rating', 'critics_score', 'audience_rating',\n",
       "       'audience_score', 'best_pic_win', 'best_actor_win', 'best_actress_win',\n",
       "       'best_dir_win'],\n",
       "      dtype='object')"
      ]
     },
     "execution_count": 5,
     "metadata": {},
     "output_type": "execute_result"
    }
   ],
   "source": [
    "movies_data.columns"
   ]
  },
  {
   "cell_type": "code",
   "execution_count": 6,
   "metadata": {},
   "outputs": [],
   "source": [
    "x_train ,x_test = train_test_split(movies_data,test_size=0.00153846)"
   ]
  },
  {
   "cell_type": "code",
   "execution_count": 7,
   "metadata": {},
   "outputs": [
    {
     "data": {
      "text/plain": [
       "((649, 15), (1, 15))"
      ]
     },
     "execution_count": 7,
     "metadata": {},
     "output_type": "execute_result"
    }
   ],
   "source": [
    "x_train.shape,x_test.shape"
   ]
  },
  {
   "cell_type": "code",
   "execution_count": 8,
   "metadata": {},
   "outputs": [
    {
     "data": {
      "text/plain": [
       "<matplotlib.axes._subplots.AxesSubplot at 0x21a3d7676a0>"
      ]
     },
     "execution_count": 8,
     "metadata": {},
     "output_type": "execute_result"
    },
    {
     "data": {
      "image/png": "[encoded data removed]",
      "text/plain": [
       "<Figure size 432x288 with 1 Axes>"
      ]
     },
     "metadata": {
      "needs_background": "light"
     },
     "output_type": "display_data"
    }
   ],
   "source": [
    "import seaborn as sns\n",
    "sns.boxplot(x=\"audience_score\",data=movies_data)"
   ]
  },
  {
   "cell_type": "code",
   "execution_count": 9,
   "metadata": {},
   "outputs": [
    {
     "data": {
      "image/png": "[encoded data removed]",
      "text/plain": [
       "<Figure size 647.5x288 with 2 Axes>"
      ]
     },
     "metadata": {
      "needs_background": "light"
     },
     "output_type": "display_data"
    }
   ],
   "source": [
    " g = sns.catplot(x=\"best_dir_win\", y=\"audience_score\",hue=\"best_pic_win\", col=\"audience_rating\",data=movies_data, kind=\"box\",height=4, aspect=1)"
   ]
  },
  {
   "cell_type": "code",
   "execution_count": 10,
   "metadata": {},
   "outputs": [
    {
     "data": {
      "image/png": "[encoded data removed]",
      "text/plain": [
       "<Figure size 288x288 with 1 Axes>"
      ]
     },
     "metadata": {
      "needs_background": "light"
     },
     "output_type": "display_data"
    }
   ],
   "source": [
    "g = sns.catplot(x=\"title_type\", y=\"audience_score\",data=movies_data, kind=\"box\",height=4, aspect=1);"
   ]
  },
  {
   "cell_type": "code",
   "execution_count": 11,
   "metadata": {},
   "outputs": [
    {
     "data": {
      "image/png": "[encoded data removed]",
      "text/plain": [
       "<Figure size 288x288 with 1 Axes>"
      ]
     },
     "metadata": {
      "needs_background": "light"
     },
     "output_type": "display_data"
    }
   ],
   "source": [
    "g = sns.catplot(x=\"audience_rating\", y=\"audience_score\",data=movies_data, kind=\"box\",height=4, aspect=1)"
   ]
  },
  {
   "cell_type": "code",
   "execution_count": 12,
   "metadata": {},
   "outputs": [
    {
     "data": {
      "text/plain": [
       "(458, 1067, 3301, 1054, 962, 4231, 4568, 896, 562, 3496, 19931)"
      ]
     },
     "execution_count": 12,
     "metadata": {},
     "output_type": "execute_result"
    }
   ],
   "source": [
    "drama_score=movies_data.loc[movies_data['genre'] == 'Drama']\n",
    "drama_score = drama_score['audience_score'].sum()\n",
    "action_score=movies_data.loc[movies_data['genre'] == 'Action & Adventure']\n",
    "action_score = action_score['audience_score'].sum()\n",
    "animation_score=movies_data.loc[movies_data['genre'] == 'Animation']\n",
    "animation_score = animation_score['audience_score'].sum()\n",
    "Art_house_score=movies_data.loc[movies_data['genre'] == 'Art House & International']\n",
    "Art_house_score = Art_house_score['audience_score'].sum()\n",
    "comedy_score=movies_data.loc[movies_data['genre'] == 'Comedy']\n",
    "comedy_score = comedy_score['audience_score'].sum()\n",
    "documentary_score=movies_data.loc[movies_data['genre'] == 'Documentary']\n",
    "documentary_score = documentary_score['audience_score'].sum()\n",
    "Musical_score=movies_data.loc[movies_data['genre'] == 'Musical & Performing Arts']\n",
    "Musical_score = Musical_score['audience_score'].sum()\n",
    "horror_score=movies_data.loc[movies_data['genre'] == 'Horror']\n",
    "horror_score = horror_score['audience_score'].sum()\n",
    "mystery_score=movies_data.loc[movies_data['genre'] == 'Mystery & Suspense']\n",
    "mystery_score = mystery_score['audience_score'].sum()\n",
    "other_score=movies_data.loc[movies_data['genre'] == 'Other']\n",
    "other_score = other_score['audience_score'].sum()\n",
    "sci_fi_score=movies_data.loc[movies_data['genre'] == 'Science Fiction & Fantasy']\n",
    "sci_fi_score = sci_fi_score['audience_score'].sum()\n",
    "sci_fi_score,other_score,mystery_score,horror_score,Musical_score,documentary_score,comedy_score,Art_house_score,animation_score,action_score,drama_score"
   ]
  },
  {
   "cell_type": "code",
   "execution_count": 13,
   "metadata": {},
   "outputs": [],
   "source": [
    "label = ['Drama', 'Action & Adventure', 'Animation', 'Art House & International', 'Comedy', 'Documentary', 'Musical & Performing Arts',\n",
    "         'Horror', 'Mystery & Suspense', 'Other', 'Science Fiction & Fantasy']\n",
    "score = [19931,3496,562,896,4568,4231,962,1054,3301,1067,458]"
   ]
  },
  {
   "cell_type": "code",
   "execution_count": 15,
   "metadata": {},
   "outputs": [
    {
     "data": {
      "image/png": "[encoded data removed]",
      "text/plain": [
       "<Figure size 432x288 with 1 Axes>"
      ]
     },
     "metadata": {
      "needs_background": "light"
     },
     "output_type": "display_data"
    }
   ],
   "source": [
    "import numpy as np\n",
    "index = np.arange(len(label))\n",
    "plt.bar(index, score)\n",
    "plt.xlabel('Genre', fontsize=20)\n",
    "plt.ylabel('No of audience', fontsize=20)\n",
    "plt.xticks(index, label, fontsize=5, rotation=15)\n",
    "plt.title('Audience for Each Genre',fontsize=20)\n",
    "plt.show()"
   ]
  },
  {
   "cell_type": "code",
   "execution_count": 16,
   "metadata": {},
   "outputs": [
    {
     "data": {
      "text/plain": [
       "Unnamed: 0            int64\n",
       "title                object\n",
       "title_type           object\n",
       "genre                object\n",
       "runtime             float64\n",
       "imdb_rating         float64\n",
       "imdb_num_votes        int64\n",
       "critics_rating       object\n",
       "critics_score         int64\n",
       "audience_rating      object\n",
       "audience_score        int64\n",
       "best_pic_win         object\n",
       "best_actor_win       object\n",
       "best_actress_win     object\n",
       "best_dir_win         object\n",
       "dtype: object"
      ]
     },
     "execution_count": 16,
     "metadata": {},
     "output_type": "execute_result"
    }
   ],
   "source": [
    "movies_data.dtypes"
   ]
  },
  {
   "cell_type": "code",
   "execution_count": 17,
   "metadata": {},
   "outputs": [
    {
     "data": {
      "text/html": [
       "<div>\n",
       "<style scoped>\n",
       "    .dataframe tbody tr th:only-of-type {\n",
       "        vertical-align: middle;\n",
       "    }\n",
       "\n",
       "    .dataframe tbody tr th {\n",
       "        vertical-align: top;\n",
       "    }\n",
       "\n",
       "    .dataframe thead th {\n",
       "        text-align: right;\n",
       "    }\n",
       "</style>\n",
       "<table border=\"1\" class=\"dataframe\">\n",
       "  <thead>\n",
       "    <tr style=\"text-align: right;\">\n",
       "      <th></th>\n",
       "      <th>Unnamed: 0</th>\n",
       "      <th>title</th>\n",
       "      <th>title_type</th>\n",
       "      <th>genre</th>\n",
       "      <th>runtime</th>\n",
       "      <th>imdb_rating</th>\n",
       "      <th>imdb_num_votes</th>\n",
       "      <th>critics_rating</th>\n",
       "      <th>critics_score</th>\n",
       "      <th>audience_rating</th>\n",
       "      <th>audience_score</th>\n",
       "      <th>best_pic_win</th>\n",
       "      <th>best_actor_win</th>\n",
       "      <th>best_actress_win</th>\n",
       "      <th>best_dir_win</th>\n",
       "    </tr>\n",
       "  </thead>\n",
       "  <tbody>\n",
       "    <tr>\n",
       "      <th>0</th>\n",
       "      <td>1</td>\n",
       "      <td>Filly Brown</td>\n",
       "      <td>Feature Film</td>\n",
       "      <td>Drama</td>\n",
       "      <td>80.0</td>\n",
       "      <td>5.5</td>\n",
       "      <td>899</td>\n",
       "      <td>Rotten</td>\n",
       "      <td>45</td>\n",
       "      <td>Upright</td>\n",
       "      <td>73</td>\n",
       "      <td>no</td>\n",
       "      <td>no</td>\n",
       "      <td>no</td>\n",
       "      <td>no</td>\n",
       "    </tr>\n",
       "    <tr>\n",
       "      <th>1</th>\n",
       "      <td>2</td>\n",
       "      <td>The Dish</td>\n",
       "      <td>Feature Film</td>\n",
       "      <td>Drama</td>\n",
       "      <td>101.0</td>\n",
       "      <td>7.3</td>\n",
       "      <td>12285</td>\n",
       "      <td>Certified Fresh</td>\n",
       "      <td>96</td>\n",
       "      <td>Upright</td>\n",
       "      <td>81</td>\n",
       "      <td>no</td>\n",
       "      <td>no</td>\n",
       "      <td>no</td>\n",
       "      <td>no</td>\n",
       "    </tr>\n",
       "    <tr>\n",
       "      <th>2</th>\n",
       "      <td>3</td>\n",
       "      <td>Waiting for Guffman</td>\n",
       "      <td>Feature Film</td>\n",
       "      <td>Comedy</td>\n",
       "      <td>84.0</td>\n",
       "      <td>7.6</td>\n",
       "      <td>22381</td>\n",
       "      <td>Certified Fresh</td>\n",
       "      <td>91</td>\n",
       "      <td>Upright</td>\n",
       "      <td>91</td>\n",
       "      <td>no</td>\n",
       "      <td>no</td>\n",
       "      <td>no</td>\n",
       "      <td>no</td>\n",
       "    </tr>\n",
       "    <tr>\n",
       "      <th>3</th>\n",
       "      <td>4</td>\n",
       "      <td>The Age of Innocence</td>\n",
       "      <td>Feature Film</td>\n",
       "      <td>Drama</td>\n",
       "      <td>139.0</td>\n",
       "      <td>7.2</td>\n",
       "      <td>35096</td>\n",
       "      <td>Certified Fresh</td>\n",
       "      <td>80</td>\n",
       "      <td>Upright</td>\n",
       "      <td>76</td>\n",
       "      <td>no</td>\n",
       "      <td>yes</td>\n",
       "      <td>no</td>\n",
       "      <td>yes</td>\n",
       "    </tr>\n",
       "    <tr>\n",
       "      <th>4</th>\n",
       "      <td>5</td>\n",
       "      <td>Malevolence</td>\n",
       "      <td>Feature Film</td>\n",
       "      <td>Horror</td>\n",
       "      <td>90.0</td>\n",
       "      <td>5.1</td>\n",
       "      <td>2386</td>\n",
       "      <td>Rotten</td>\n",
       "      <td>33</td>\n",
       "      <td>Spilled</td>\n",
       "      <td>27</td>\n",
       "      <td>no</td>\n",
       "      <td>no</td>\n",
       "      <td>no</td>\n",
       "      <td>no</td>\n",
       "    </tr>\n",
       "  </tbody>\n",
       "</table>\n",
       "</div>"
      ],
      "text/plain": [
       "   Unnamed: 0                 title    title_type   genre  runtime  \\\n",
       "0           1           Filly Brown  Feature Film   Drama     80.0   \n",
       "1           2              The Dish  Feature Film   Drama    101.0   \n",
       "2           3   Waiting for Guffman  Feature Film  Comedy     84.0   \n",
       "3           4  The Age of Innocence  Feature Film   Drama    139.0   \n",
       "4           5           Malevolence  Feature Film  Horror     90.0   \n",
       "\n",
       "   imdb_rating  imdb_num_votes   critics_rating  critics_score  \\\n",
       "0          5.5             899           Rotten             45   \n",
       "1          7.3           12285  Certified Fresh             96   \n",
       "2          7.6           22381  Certified Fresh             91   \n",
       "3          7.2           35096  Certified Fresh             80   \n",
       "4          5.1            2386           Rotten             33   \n",
       "\n",
       "  audience_rating  audience_score best_pic_win best_actor_win  \\\n",
       "0         Upright              73           no             no   \n",
       "1         Upright              81           no             no   \n",
       "2         Upright              91           no             no   \n",
       "3         Upright              76           no            yes   \n",
       "4         Spilled              27           no             no   \n",
       "\n",
       "  best_actress_win best_dir_win  \n",
       "0               no           no  \n",
       "1               no           no  \n",
       "2               no           no  \n",
       "3               no          yes  \n",
       "4               no           no  "
      ]
     },
     "execution_count": 17,
     "metadata": {},
     "output_type": "execute_result"
    }
   ],
   "source": [
    "movies_data.head()"
   ]
  },
  {
   "cell_type": "code",
   "execution_count": 18,
   "metadata": {},
   "outputs": [
    {
     "data": {
      "text/plain": [
       "Drama                        305\n",
       "Comedy                        87\n",
       "Action & Adventure            65\n",
       "Mystery & Suspense            59\n",
       "Documentary                   51\n",
       "Horror                        23\n",
       "Other                         16\n",
       "Art House & International     14\n",
       "Musical & Performing Arts     12\n",
       "Science Fiction & Fantasy      9\n",
       "Animation                      9\n",
       "Name: genre, dtype: int64"
      ]
     },
     "execution_count": 18,
     "metadata": {},
     "output_type": "execute_result"
    }
   ],
   "source": [
    "movies_data[\"genre\"].value_counts()"
   ]
  },
  {
   "cell_type": "code",
   "execution_count": 19,
   "metadata": {},
   "outputs": [
    {
     "data": {
      "text/plain": [
       "Feature Film    591\n",
       "Documentary      54\n",
       "TV Movie          5\n",
       "Name: title_type, dtype: int64"
      ]
     },
     "execution_count": 19,
     "metadata": {},
     "output_type": "execute_result"
    }
   ],
   "source": [
    "movies_data[\"title_type\"].value_counts()"
   ]
  },
  {
   "cell_type": "code",
   "execution_count": 20,
   "metadata": {},
   "outputs": [
    {
     "data": {
      "text/plain": [
       "Rotten             307\n",
       "Fresh              208\n",
       "Certified Fresh    135\n",
       "Name: critics_rating, dtype: int64"
      ]
     },
     "execution_count": 20,
     "metadata": {},
     "output_type": "execute_result"
    }
   ],
   "source": [
    "movies_data[\"critics_rating\"].value_counts()"
   ]
  },
  {
   "cell_type": "code",
   "execution_count": 21,
   "metadata": {},
   "outputs": [
    {
     "data": {
      "text/plain": [
       "Upright    375\n",
       "Spilled    275\n",
       "Name: audience_rating, dtype: int64"
      ]
     },
     "execution_count": 21,
     "metadata": {},
     "output_type": "execute_result"
    }
   ],
   "source": [
    "movies_data[\"audience_rating\"].value_counts()#best_pic_win\tbest_actor_win\tbest_actress_win\tbest_dir_win"
   ]
  },
  {
   "cell_type": "code",
   "execution_count": 22,
   "metadata": {},
   "outputs": [
    {
     "data": {
      "text/plain": [
       "no     643\n",
       "yes      7\n",
       "Name: best_pic_win, dtype: int64"
      ]
     },
     "execution_count": 22,
     "metadata": {},
     "output_type": "execute_result"
    }
   ],
   "source": [
    "movies_data[\"best_pic_win\"].value_counts()"
   ]
  },
  {
   "cell_type": "code",
   "execution_count": 23,
   "metadata": {},
   "outputs": [
    {
     "data": {
      "text/plain": [
       "no     557\n",
       "yes     93\n",
       "Name: best_actor_win, dtype: int64"
      ]
     },
     "execution_count": 23,
     "metadata": {},
     "output_type": "execute_result"
    }
   ],
   "source": [
    "movies_data[\"best_actor_win\"].value_counts()"
   ]
  },
  {
   "cell_type": "code",
   "execution_count": 24,
   "metadata": {},
   "outputs": [
    {
     "data": {
      "text/plain": [
       "no     578\n",
       "yes     72\n",
       "Name: best_actress_win, dtype: int64"
      ]
     },
     "execution_count": 24,
     "metadata": {},
     "output_type": "execute_result"
    }
   ],
   "source": [
    "movies_data[\"best_actress_win\"].value_counts()"
   ]
  },
  {
   "cell_type": "code",
   "execution_count": 25,
   "metadata": {},
   "outputs": [
    {
     "data": {
      "text/plain": [
       "no     607\n",
       "yes     43\n",
       "Name: best_dir_win, dtype: int64"
      ]
     },
     "execution_count": 25,
     "metadata": {},
     "output_type": "execute_result"
    }
   ],
   "source": [
    "movies_data[\"best_dir_win\"].value_counts()"
   ]
  },
  {
   "cell_type": "code",
   "execution_count": 26,
   "metadata": {},
   "outputs": [],
   "source": [
    "clean_ups = {\"genre\":{\"Drama\":1,\"Comedy\":2,\"Action & Adventure\":3,\"Mystery & Suspense\":4,\"Documentary\":5,\"Horror\":6,\"Other\":7,\"Art House & International\":8,\"Musical & Performing Arts\":9,\n",
    "                     \"Science Fiction & Fantasy\":10,\"Animation\":11},\n",
    "             \"title_type\":{\"Feature Film\":1,\"Documentary\":2,\"TV Movie\":3},\n",
    "             \"critics_rating\":{\"Rotten\":1,\"Fresh\":2,\"Certified Fresh\":3},\n",
    "             \"audience_rating\":{\"Upright\":1,\"Spilled\":2},\n",
    "             \"best_pic_win\":{\"no\":1,\"yes\":2},\n",
    "             \"best_actor_win\":{\"no\":1,\"yes\":2},\n",
    "             \"best_actress_win\":{\"no\":1,\"yes\":2},\n",
    "             \"best_dir_win\":{\"no\":1,\"yes\":2}\n",
    "             }"
   ]
  },
  {
   "cell_type": "code",
   "execution_count": 27,
   "metadata": {},
   "outputs": [
    {
     "data": {
      "text/html": [
       "<div>\n",
       "<style scoped>\n",
       "    .dataframe tbody tr th:only-of-type {\n",
       "        vertical-align: middle;\n",
       "    }\n",
       "\n",
       "    .dataframe tbody tr th {\n",
       "        vertical-align: top;\n",
       "    }\n",
       "\n",
       "    .dataframe thead th {\n",
       "        text-align: right;\n",
       "    }\n",
       "</style>\n",
       "<table border=\"1\" class=\"dataframe\">\n",
       "  <thead>\n",
       "    <tr style=\"text-align: right;\">\n",
       "      <th></th>\n",
       "      <th>Unnamed: 0</th>\n",
       "      <th>title</th>\n",
       "      <th>title_type</th>\n",
       "      <th>genre</th>\n",
       "      <th>runtime</th>\n",
       "      <th>imdb_rating</th>\n",
       "      <th>imdb_num_votes</th>\n",
       "      <th>critics_rating</th>\n",
       "      <th>critics_score</th>\n",
       "      <th>audience_rating</th>\n",
       "      <th>audience_score</th>\n",
       "      <th>best_pic_win</th>\n",
       "      <th>best_actor_win</th>\n",
       "      <th>best_actress_win</th>\n",
       "      <th>best_dir_win</th>\n",
       "    </tr>\n",
       "  </thead>\n",
       "  <tbody>\n",
       "    <tr>\n",
       "      <th>0</th>\n",
       "      <td>1</td>\n",
       "      <td>Filly Brown</td>\n",
       "      <td>1</td>\n",
       "      <td>1</td>\n",
       "      <td>80.0</td>\n",
       "      <td>5.5</td>\n",
       "      <td>899</td>\n",
       "      <td>1</td>\n",
       "      <td>45</td>\n",
       "      <td>1</td>\n",
       "      <td>73</td>\n",
       "      <td>1</td>\n",
       "      <td>1</td>\n",
       "      <td>1</td>\n",
       "      <td>1</td>\n",
       "    </tr>\n",
       "    <tr>\n",
       "      <th>1</th>\n",
       "      <td>2</td>\n",
       "      <td>The Dish</td>\n",
       "      <td>1</td>\n",
       "      <td>1</td>\n",
       "      <td>101.0</td>\n",
       "      <td>7.3</td>\n",
       "      <td>12285</td>\n",
       "      <td>3</td>\n",
       "      <td>96</td>\n",
       "      <td>1</td>\n",
       "      <td>81</td>\n",
       "      <td>1</td>\n",
       "      <td>1</td>\n",
       "      <td>1</td>\n",
       "      <td>1</td>\n",
       "    </tr>\n",
       "    <tr>\n",
       "      <th>2</th>\n",
       "      <td>3</td>\n",
       "      <td>Waiting for Guffman</td>\n",
       "      <td>1</td>\n",
       "      <td>2</td>\n",
       "      <td>84.0</td>\n",
       "      <td>7.6</td>\n",
       "      <td>22381</td>\n",
       "      <td>3</td>\n",
       "      <td>91</td>\n",
       "      <td>1</td>\n",
       "      <td>91</td>\n",
       "      <td>1</td>\n",
       "      <td>1</td>\n",
       "      <td>1</td>\n",
       "      <td>1</td>\n",
       "    </tr>\n",
       "    <tr>\n",
       "      <th>3</th>\n",
       "      <td>4</td>\n",
       "      <td>The Age of Innocence</td>\n",
       "      <td>1</td>\n",
       "      <td>1</td>\n",
       "      <td>139.0</td>\n",
       "      <td>7.2</td>\n",
       "      <td>35096</td>\n",
       "      <td>3</td>\n",
       "      <td>80</td>\n",
       "      <td>1</td>\n",
       "      <td>76</td>\n",
       "      <td>1</td>\n",
       "      <td>2</td>\n",
       "      <td>1</td>\n",
       "      <td>2</td>\n",
       "    </tr>\n",
       "    <tr>\n",
       "      <th>4</th>\n",
       "      <td>5</td>\n",
       "      <td>Malevolence</td>\n",
       "      <td>1</td>\n",
       "      <td>6</td>\n",
       "      <td>90.0</td>\n",
       "      <td>5.1</td>\n",
       "      <td>2386</td>\n",
       "      <td>1</td>\n",
       "      <td>33</td>\n",
       "      <td>2</td>\n",
       "      <td>27</td>\n",
       "      <td>1</td>\n",
       "      <td>1</td>\n",
       "      <td>1</td>\n",
       "      <td>1</td>\n",
       "    </tr>\n",
       "  </tbody>\n",
       "</table>\n",
       "</div>"
      ],
      "text/plain": [
       "   Unnamed: 0                 title  title_type  genre  runtime  imdb_rating  \\\n",
       "0           1           Filly Brown           1      1     80.0          5.5   \n",
       "1           2              The Dish           1      1    101.0          7.3   \n",
       "2           3   Waiting for Guffman           1      2     84.0          7.6   \n",
       "3           4  The Age of Innocence           1      1    139.0          7.2   \n",
       "4           5           Malevolence           1      6     90.0          5.1   \n",
       "\n",
       "   imdb_num_votes  critics_rating  critics_score  audience_rating  \\\n",
       "0             899               1             45                1   \n",
       "1           12285               3             96                1   \n",
       "2           22381               3             91                1   \n",
       "3           35096               3             80                1   \n",
       "4            2386               1             33                2   \n",
       "\n",
       "   audience_score  best_pic_win  best_actor_win  best_actress_win  \\\n",
       "0              73             1               1                 1   \n",
       "1              81             1               1                 1   \n",
       "2              91             1               1                 1   \n",
       "3              76             1               2                 1   \n",
       "4              27             1               1                 1   \n",
       "\n",
       "   best_dir_win  \n",
       "0             1  \n",
       "1             1  \n",
       "2             1  \n",
       "3             2  \n",
       "4             1  "
      ]
     },
     "execution_count": 27,
     "metadata": {},
     "output_type": "execute_result"
    }
   ],
   "source": [
    "movies_data.replace(clean_ups, inplace=True)\n",
    "movies_data.head()"
   ]
  },
  {
   "cell_type": "code",
   "execution_count": 45,
   "metadata": {},
   "outputs": [],
   "source": [
    "x_train,x_test,train_lbl,test_lbl = train_test_split(movies_data, movies_data.audience_score, test_size=0.00153846, random_state=0)\n",
    "del x_train['title']\n",
    "del x_test['title']"
   ]
  },
  {
   "cell_type": "code",
   "execution_count": 28,
   "metadata": {},
   "outputs": [],
   "source": [
    "x_train,x_test,train_lbl,test_lbl = train_test_split(movies_data, movies_data.audience_score, test_size=0.20, random_state=0)\n",
    "del x_train['title']\n",
    "del x_test['title']"
   ]
  },
  {
   "cell_type": "code",
   "execution_count": 46,
   "metadata": {},
   "outputs": [
    {
     "name": "stderr",
     "output_type": "stream",
     "text": [
      "C:\\ProgramData\\Anaconda3\\lib\\site-packages\\sklearn\\preprocessing\\data.py:625: DataConversionWarning: Data with input dtype int64, float64 were all converted to float64 by StandardScaler.\n",
      "  return self.partial_fit(X, y)\n",
      "C:\\ProgramData\\Anaconda3\\lib\\site-packages\\ipykernel_launcher.py:8: DataConversionWarning: Data with input dtype int64, float64 were all converted to float64 by StandardScaler.\n",
      "  \n",
      "C:\\ProgramData\\Anaconda3\\lib\\site-packages\\ipykernel_launcher.py:9: DataConversionWarning: Data with input dtype int64, float64 were all converted to float64 by StandardScaler.\n",
      "  if __name__ == '__main__':\n"
     ]
    }
   ],
   "source": [
    "from sklearn.preprocessing import StandardScaler\n",
    "scaler = StandardScaler()\n",
    "\n",
    "# Fit on training set only.\n",
    "scaler.fit(x_train)\n",
    "\n",
    "# Apply transform to both the training set and the test set.\n",
    "train_img = scaler.transform(x_train)\n",
    "test_img = scaler.transform(x_test)"
   ]
  },
  {
   "cell_type": "code",
   "execution_count": 47,
   "metadata": {},
   "outputs": [
    {
     "data": {
      "text/plain": [
       "PCA(copy=True, iterated_power='auto', n_components=0.95, random_state=None,\n",
       "  svd_solver='auto', tol=0.0, whiten=False)"
      ]
     },
     "execution_count": 47,
     "metadata": {},
     "output_type": "execute_result"
    }
   ],
   "source": [
    "from sklearn.decomposition import PCA\n",
    "pca = PCA(0.95)\n",
    "pca.fit(train_img)"
   ]
  },
  {
   "cell_type": "code",
   "execution_count": 48,
   "metadata": {},
   "outputs": [
    {
     "data": {
      "text/plain": [
       "11"
      ]
     },
     "execution_count": 48,
     "metadata": {},
     "output_type": "execute_result"
    }
   ],
   "source": [
    "pca.n_components_"
   ]
  },
  {
   "cell_type": "code",
   "execution_count": 49,
   "metadata": {},
   "outputs": [],
   "source": [
    "train_pca = pca.transform(train_img)\n",
    "test_pca = pca.transform(test_img)"
   ]
  },
  {
   "cell_type": "code",
   "execution_count": 50,
   "metadata": {},
   "outputs": [
    {
     "name": "stderr",
     "output_type": "stream",
     "text": [
      "C:\\ProgramData\\Anaconda3\\lib\\site-packages\\sklearn\\linear_model\\logistic.py:433: FutureWarning: Default solver will be changed to 'lbfgs' in 0.22. Specify a solver to silence this warning.\n",
      "  FutureWarning)\n",
      "C:\\ProgramData\\Anaconda3\\lib\\site-packages\\sklearn\\linear_model\\logistic.py:460: FutureWarning: Default multi_class will be changed to 'auto' in 0.22. Specify the multi_class option to silence this warning.\n",
      "  \"this warning.\", FutureWarning)\n"
     ]
    },
    {
     "data": {
      "text/plain": [
       "LogisticRegression(C=1.0, class_weight=None, dual=False, fit_intercept=True,\n",
       "          intercept_scaling=1, max_iter=100, multi_class='warn',\n",
       "          n_jobs=None, penalty='l2', random_state=None, solver='warn',\n",
       "          tol=0.0001, verbose=0, warm_start=False)"
      ]
     },
     "execution_count": 50,
     "metadata": {},
     "output_type": "execute_result"
    }
   ],
   "source": [
    "from sklearn.linear_model import LogisticRegression\n",
    "lr = LogisticRegression()\n",
    "lr.fit(train_pca,train_lbl)"
   ]
  },
  {
   "cell_type": "code",
   "execution_count": 51,
   "metadata": {},
   "outputs": [
    {
     "data": {
      "text/plain": [
       "array([35], dtype=int64)"
      ]
     },
     "execution_count": 51,
     "metadata": {},
     "output_type": "execute_result"
    }
   ],
   "source": [
    "lr.predict(test_pca)"
   ]
  },
  {
   "cell_type": "code",
   "execution_count": 53,
   "metadata": {},
   "outputs": [
    {
     "data": {
      "text/html": [
       "<div>\n",
       "<style scoped>\n",
       "    .dataframe tbody tr th:only-of-type {\n",
       "        vertical-align: middle;\n",
       "    }\n",
       "\n",
       "    .dataframe tbody tr th {\n",
       "        vertical-align: top;\n",
       "    }\n",
       "\n",
       "    .dataframe thead th {\n",
       "        text-align: right;\n",
       "    }\n",
       "</style>\n",
       "<table border=\"1\" class=\"dataframe\">\n",
       "  <thead>\n",
       "    <tr style=\"text-align: right;\">\n",
       "      <th></th>\n",
       "      <th>Unnamed: 0</th>\n",
       "      <th>title_type</th>\n",
       "      <th>genre</th>\n",
       "      <th>runtime</th>\n",
       "      <th>imdb_rating</th>\n",
       "      <th>imdb_num_votes</th>\n",
       "      <th>critics_rating</th>\n",
       "      <th>critics_score</th>\n",
       "      <th>audience_rating</th>\n",
       "      <th>audience_score</th>\n",
       "      <th>best_pic_win</th>\n",
       "      <th>best_actor_win</th>\n",
       "      <th>best_actress_win</th>\n",
       "      <th>best_dir_win</th>\n",
       "    </tr>\n",
       "  </thead>\n",
       "  <tbody>\n",
       "    <tr>\n",
       "      <th>9</th>\n",
       "      <td>10</td>\n",
       "      <td>1</td>\n",
       "      <td>1</td>\n",
       "      <td>119.0</td>\n",
       "      <td>6.6</td>\n",
       "      <td>12496</td>\n",
       "      <td>3</td>\n",
       "      <td>83</td>\n",
       "      <td>1</td>\n",
       "      <td>66</td>\n",
       "      <td>1</td>\n",
       "      <td>1</td>\n",
       "      <td>1</td>\n",
       "      <td>1</td>\n",
       "    </tr>\n",
       "    <tr>\n",
       "      <th>360</th>\n",
       "      <td>361</td>\n",
       "      <td>1</td>\n",
       "      <td>3</td>\n",
       "      <td>98.0</td>\n",
       "      <td>6.0</td>\n",
       "      <td>109633</td>\n",
       "      <td>2</td>\n",
       "      <td>60</td>\n",
       "      <td>2</td>\n",
       "      <td>49</td>\n",
       "      <td>1</td>\n",
       "      <td>1</td>\n",
       "      <td>1</td>\n",
       "      <td>1</td>\n",
       "    </tr>\n",
       "    <tr>\n",
       "      <th>192</th>\n",
       "      <td>193</td>\n",
       "      <td>1</td>\n",
       "      <td>1</td>\n",
       "      <td>112.0</td>\n",
       "      <td>5.9</td>\n",
       "      <td>725</td>\n",
       "      <td>1</td>\n",
       "      <td>33</td>\n",
       "      <td>2</td>\n",
       "      <td>41</td>\n",
       "      <td>1</td>\n",
       "      <td>1</td>\n",
       "      <td>1</td>\n",
       "      <td>1</td>\n",
       "    </tr>\n",
       "    <tr>\n",
       "      <th>630</th>\n",
       "      <td>631</td>\n",
       "      <td>1</td>\n",
       "      <td>1</td>\n",
       "      <td>119.0</td>\n",
       "      <td>5.7</td>\n",
       "      <td>8818</td>\n",
       "      <td>1</td>\n",
       "      <td>26</td>\n",
       "      <td>2</td>\n",
       "      <td>41</td>\n",
       "      <td>1</td>\n",
       "      <td>2</td>\n",
       "      <td>1</td>\n",
       "      <td>1</td>\n",
       "    </tr>\n",
       "    <tr>\n",
       "      <th>560</th>\n",
       "      <td>561</td>\n",
       "      <td>1</td>\n",
       "      <td>1</td>\n",
       "      <td>106.0</td>\n",
       "      <td>7.5</td>\n",
       "      <td>10250</td>\n",
       "      <td>3</td>\n",
       "      <td>97</td>\n",
       "      <td>1</td>\n",
       "      <td>87</td>\n",
       "      <td>1</td>\n",
       "      <td>1</td>\n",
       "      <td>1</td>\n",
       "      <td>1</td>\n",
       "    </tr>\n",
       "  </tbody>\n",
       "</table>\n",
       "</div>"
      ],
      "text/plain": [
       "     Unnamed: 0  title_type  genre  runtime  imdb_rating  imdb_num_votes  \\\n",
       "9            10           1      1    119.0          6.6           12496   \n",
       "360         361           1      3     98.0          6.0          109633   \n",
       "192         193           1      1    112.0          5.9             725   \n",
       "630         631           1      1    119.0          5.7            8818   \n",
       "560         561           1      1    106.0          7.5           10250   \n",
       "\n",
       "     critics_rating  critics_score  audience_rating  audience_score  \\\n",
       "9                 3             83                1              66   \n",
       "360               2             60                2              49   \n",
       "192               1             33                2              41   \n",
       "630               1             26                2              41   \n",
       "560               3             97                1              87   \n",
       "\n",
       "     best_pic_win  best_actor_win  best_actress_win  best_dir_win  \n",
       "9               1               1                 1             1  \n",
       "360             1               1                 1             1  \n",
       "192             1               1                 1             1  \n",
       "630             1               2                 1             1  \n",
       "560             1               1                 1             1  "
      ]
     },
     "execution_count": 53,
     "metadata": {},
     "output_type": "execute_result"
    }
   ],
   "source": [
    "x_train.tail()"
   ]
  },
  {
   "cell_type": "code",
   "execution_count": 54,
   "metadata": {},
   "outputs": [
    {
     "data": {
      "text/plain": [
       "array([40], dtype=int64)"
      ]
     },
     "execution_count": 54,
     "metadata": {},
     "output_type": "execute_result"
    }
   ],
   "source": []
  },
  {
   "cell_type": "code",
   "execution_count": 55,
   "metadata": {},
   "outputs": [
    {
     "data": {
      "text/plain": [
       "array([46], dtype=int64)"
      ]
     },
     "execution_count": 55,
     "metadata": {},
     "output_type": "execute_result"
    }
   ],
   "source": []
  },
  {
   "cell_type": "code",
   "execution_count": 56,
   "metadata": {},
   "outputs": [],
   "source": []
  },
  {
   "cell_type": "code",
   "execution_count": 57,
   "metadata": {},
   "outputs": [
    {
     "data": {
      "text/plain": [
       "array([46], dtype=int64)"
      ]
     },
     "execution_count": 57,
     "metadata": {},
     "output_type": "execute_result"
    }
   ],
   "source": []
  },
  {
   "cell_type": "code",
   "execution_count": null,
   "metadata": {},
   "outputs": [],
   "source": []
  }
 ],
 "metadata": {
  "kernelspec": {
   "display_name": "Python 3",
   "language": "python",
   "name": "python3"
  },
  "language_info": {
   "codemirror_mode": {
    "name": "ipython",
    "version": 3
   },
   "file_extension": ".py",
   "mimetype": "text/x-python",
   "name": "python",
   "nbconvert_exporter": "python",
   "pygments_lexer": "ipython3",
   "version": "3.6.8"
  }
 },
 "nbformat": 4,
 "nbformat_minor": 2
}
